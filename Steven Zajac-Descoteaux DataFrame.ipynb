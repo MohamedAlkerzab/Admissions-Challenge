{
 "cells": [
  {
   "cell_type": "code",
   "execution_count": 4,
   "metadata": {},
   "outputs": [
    {
     "name": "stdout",
     "output_type": "stream",
     "text": [
      "Average number of goals for the home team: 1.745755783196268\n",
      "Average number of goals for the away team: 1.187587168758717\n"
     ]
    },
    {
     "data": {
      "image/png": "[encoded data removed]",
      "text/plain": [
       "<Figure size 432x288 with 1 Axes>"
      ]
     },
     "metadata": {
      "needs_background": "light"
     },
     "output_type": "display_data"
    },
    {
     "name": "stdout",
     "output_type": "stream",
     "text": [
      "Home Team Home Win is (exluding neutral venues): 50.49 %\n",
      "Country with the highest number of goals in any FIFA games is: Germany\n",
      "The country with the most game wins in the last 5 years and most likely to win the next FIFA event is: Belgium\n",
      "The difference between the home and away teams average goals IS statistically significant\n"
     ]
    }
   ],
   "source": [
    "from scipy.stats import ttest_ind\n",
    "from scipy.stats import stats\n",
    "import pandas as pd\n",
    "import numpy as np\n",
    "import matplotlib.pyplot as plt\n",
    "%matplotlib inline\n",
    "\n",
    "df = pd.read_csv(\"downloads/results.csv\")\n",
    "\n",
    "#1\n",
    "print(\"Average number of goals for the home team:\", df[\"home_score\"].mean())\n",
    "\n",
    "#2\n",
    "print(\"Average number of goals for the away team:\", df[\"away_score\"].mean())\n",
    "\n",
    "#3\n",
    "df['Total_Game_Score'] = df['home_score'] + df['away_score']\n",
    "df\n",
    "\n",
    "ax = df['Total_Game_Score'].plot()\n",
    "ax.set_xlabel('Game # Ascending', fontsize=12)\n",
    "ax.set_ylabel('Total Game Score', fontsize=12)\n",
    "plt.show()\n",
    "\n",
    "#4\n",
    "df['Home_Win'] = df['home_score'] > df['away_score']\n",
    "ndf = df[df.neutral==False]\n",
    "hndf = ndf[ndf.Home_Win==True]\n",
    "hmwin = float(len(hndf.index) / len(ndf.index) * 100)\n",
    "print('Home Team Home Win is (exluding neutral venues):', round(hmwin, 2),'%')\n",
    "\n",
    "#5\n",
    "start_date = '2010-01-01'\n",
    "end_date = '2020-12-31'\n",
    "after_date=df['date'] >= start_date\n",
    "before_date=df['date'] <= end_date\n",
    "between_dates=after_date & before_date\n",
    "df2010=df.loc[between_dates]\n",
    "df2010\n",
    "\n",
    "df_fifa_10 = df2010.tournament.str.contains('FIFA')\n",
    "df2010[df_fifa_10]\n",
    "\n",
    "hgoal=df2010[df_fifa_10].groupby('home_team')['home_score'].sum()\n",
    "agoal=df2010[df_fifa_10].groupby('away_team')['away_score'].sum()\n",
    "tgoal=hgoal+agoal\n",
    "\n",
    "cgoal=tgoal.iteritems()\n",
    "highscore=tgoal.max()\n",
    "for country,score in cgoal:\n",
    "    if score == highscore:\n",
    "        print('Country with the highest number of goals in any FIFA games is:', country)\n",
    "        \n",
    "#6\n",
    "df['winner'] = pd.concat([df.home_team[df.home_score>df.away_score],\n",
    "                          df.away_team[df.home_score<df.away_score]], axis=0)\n",
    "\n",
    "startdate = '2014-01-01'\n",
    "enddate = '2019-12-31'\n",
    "afterdate=df['date'] >= startdate\n",
    "beforedate=df['date'] <= enddate\n",
    "betweendates=afterdate & beforedate\n",
    "df2014=df.loc[betweendates]\n",
    "df2014 \n",
    "\n",
    "df_fifa_14 = df2014.tournament.str.contains('FIFA')\n",
    "df14=df2014[df_fifa_14] \n",
    "\n",
    "n = 1\n",
    "probwin=df14['winner'].value_counts()[:n].index.tolist()\n",
    "\n",
    "print('The country with the most game wins in the last 5 years and most likely to win the next FIFA event is: ', *probwin, sep = '',) \n",
    "\n",
    "#7\n",
    "stati = ('%6.3f %6.25f' % stats.ttest_ind(np.array(df['home_score']), np.array(df['away_score']), equal_var=False))\n",
    "signi = stati.split()\n",
    "pval = float(signi.pop(1))\n",
    "if pval < 0.05:\n",
    "    print('The difference between the home and away teams average goals IS statistically significant')\n",
    "else:\n",
    "    print('The difference between the home and away teams average goals IS NOT statistically significant')"
   ]
  },
  {
   "cell_type": "code",
   "execution_count": null,
   "metadata": {},
   "outputs": [],
   "source": []
  }
 ],
 "metadata": {
  "kernelspec": {
   "display_name": "Python 3",
   "language": "python",
   "name": "python3"
  },
  "language_info": {
   "codemirror_mode": {
    "name": "ipython",
    "version": 3
   },
   "file_extension": ".py",
   "mimetype": "text/x-python",
   "name": "python",
   "nbconvert_exporter": "python",
   "pygments_lexer": "ipython3",
   "version": "3.8.3"
  }
 },
 "nbformat": 4,
 "nbformat_minor": 4
}
